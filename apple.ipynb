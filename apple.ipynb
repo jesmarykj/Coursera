!sudo chown -R jupyter:jupyter /home/jupyter/training-data-analyst
